{
 "cells": [
  {
   "cell_type": "code",
   "execution_count": 1,
   "metadata": {},
   "outputs": [],
   "source": [
    "import requests"
   ]
  },
  {
   "cell_type": "code",
   "execution_count": 2,
   "metadata": {},
   "outputs": [],
   "source": [
    "# api jsonplaceholder\n",
    "url = \"https://jsonplaceholder.typicode.com/posts/\""
   ]
  },
  {
   "cell_type": "code",
   "execution_count": 3,
   "metadata": {},
   "outputs": [],
   "source": [
    "# adicionando um payload\n",
    "payload = {\n",
    "    \"id\": [1,2,3,4,5],\n",
    "    \"userId\": 1\n",
    "}"
   ]
  },
  {
   "cell_type": "code",
   "execution_count": 4,
   "metadata": {},
   "outputs": [],
   "source": [
    "# realizando requisicao\n",
    "response = requests.get(url, params=payload)"
   ]
  },
  {
   "cell_type": "code",
   "execution_count": 5,
   "metadata": {},
   "outputs": [
    {
     "data": {
      "text/plain": [
       "<Response [200]>"
      ]
     },
     "execution_count": 5,
     "metadata": {},
     "output_type": "execute_result"
    }
   ],
   "source": [
    "response"
   ]
  },
  {
   "cell_type": "markdown",
   "metadata": {},
   "source": [
    "No contexto da biblioteca Requests do Python, \"payload\" se refere aos dados que você envia como parte do corpo de uma solicitação HTTP. Especificamente, quando você faz uma solicitação POST, PUT ou PATCH, você pode enviar dados junto com a solicitação para o servidor. Esses dados são chamados de payload.\n",
    "\n",
    "Por exemplo, ao enviar um formulário da web, os campos do formulário e seus valores são o payload da solicitação. Na biblioteca Requests, você pode passar esses dados como um dicionário Python para o parâmetro `data` ou `json` (se os dados forem em formato JSON) ao fazer uma solicitação HTTP.\n",
    "\n",
    "Aqui está um exemplo de como enviar um payload usando a biblioteca Requests:\n",
    "\n",
    "```python\n",
    "import requests\n",
    "\n",
    "payload = {'username': 'user123', 'password': 'secretpassword'}\n",
    "response = requests.post('https://example.com/login', data=payload)\n",
    "\n",
    "print(response.text)\n",
    "```\n",
    "\n",
    "Neste exemplo, `payload` é o conjunto de dados que está sendo enviado como parte da solicitação POST para o URL `'https://example.com/login'`."
   ]
  },
  {
   "cell_type": "code",
   "execution_count": 6,
   "metadata": {},
   "outputs": [
    {
     "name": "stdout",
     "output_type": "stream",
     "text": [
      "{'userId': 1, 'id': 1, 'title': 'sunt aut facere repellat provident occaecati excepturi optio reprehenderit', 'body': 'quia et suscipit\\nsuscipit recusandae consequuntur expedita et cum\\nreprehenderit molestiae ut ut quas totam\\nnostrum rerum est autem sunt rem eveniet architecto'} \n",
      "\n",
      "{'userId': 1, 'id': 2, 'title': 'qui est esse', 'body': 'est rerum tempore vitae\\nsequi sint nihil reprehenderit dolor beatae ea dolores neque\\nfugiat blanditiis voluptate porro vel nihil molestiae ut reiciendis\\nqui aperiam non debitis possimus qui neque nisi nulla'} \n",
      "\n",
      "{'userId': 1, 'id': 3, 'title': 'ea molestias quasi exercitationem repellat qui ipsa sit aut', 'body': 'et iusto sed quo iure\\nvoluptatem occaecati omnis eligendi aut ad\\nvoluptatem doloribus vel accusantium quis pariatur\\nmolestiae porro eius odio et labore et velit aut'} \n",
      "\n",
      "{'userId': 1, 'id': 4, 'title': 'eum et est occaecati', 'body': 'ullam et saepe reiciendis voluptatem adipisci\\nsit amet autem assumenda provident rerum culpa\\nquis hic commodi nesciunt rem tenetur doloremque ipsam iure\\nquis sunt voluptatem rerum illo velit'} \n",
      "\n",
      "{'userId': 1, 'id': 5, 'title': 'nesciunt quas odio', 'body': 'repudiandae veniam quaerat sunt sed\\nalias aut fugiat sit autem sed est\\nvoluptatem omnis possimus esse voluptatibus quis\\nest aut tenetur dolor neque'} \n",
      "\n"
     ]
    }
   ],
   "source": [
    "# melhorar a legibilidade\n",
    "response_json = response.json()\n",
    "for i in response_json:\n",
    "    print(i, '\\n')"
   ]
  },
  {
   "cell_type": "code",
   "execution_count": null,
   "metadata": {},
   "outputs": [],
   "source": []
  }
 ],
 "metadata": {
  "kernelspec": {
   "display_name": ".venv",
   "language": "python",
   "name": "python3"
  },
  "language_info": {
   "codemirror_mode": {
    "name": "ipython",
    "version": 3
   },
   "file_extension": ".py",
   "mimetype": "text/x-python",
   "name": "python",
   "nbconvert_exporter": "python",
   "pygments_lexer": "ipython3",
   "version": "3.12.2"
  }
 },
 "nbformat": 4,
 "nbformat_minor": 2
}
