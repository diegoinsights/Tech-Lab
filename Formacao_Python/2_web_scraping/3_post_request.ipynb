{
 "cells": [
  {
   "cell_type": "code",
   "execution_count": 1,
   "metadata": {},
   "outputs": [],
   "source": [
    "import requests\n",
    "\n",
    "\n"
   ]
  },
  {
   "cell_type": "code",
   "execution_count": 2,
   "metadata": {},
   "outputs": [],
   "source": [
    "new_data = {\n",
    "    'userID': 1,\n",
    "    'id': 1,\n",
    "    'title': 'Aprendendo Python',\n",
    "    'body': 'Manipulando informações da api com requests'\n",
    "}\n"
   ]
  },
  {
   "cell_type": "code",
   "execution_count": 3,
   "metadata": {},
   "outputs": [],
   "source": [
    "url ='https://jsonplaceholder.typicode.com/posts'"
   ]
  },
  {
   "cell_type": "code",
   "execution_count": 4,
   "metadata": {},
   "outputs": [],
   "source": [
    "post_response = requests.post(\n",
    "    url,\n",
    "    json=new_data\n",
    "\n",
    ")"
   ]
  },
  {
   "cell_type": "code",
   "execution_count": 5,
   "metadata": {},
   "outputs": [
    {
     "name": "stdout",
     "output_type": "stream",
     "text": [
      "201\n"
     ]
    }
   ],
   "source": [
    "print(post_response.status_code)"
   ]
  },
  {
   "cell_type": "markdown",
   "metadata": {},
   "source": [
    "O status code 201 é uma resposta HTTP que indica que uma requisição foi bem-sucedida e resultou na criação de um novo recurso. Em resumo, quando você recebe o status code 201 em uma resposta HTTP, significa que o servidor recebeu e processou a requisição com sucesso e criou um novo recurso, como uma nova entrada em um banco de dados ou um novo arquivo em um servidor web. Este status é frequentemente usado em operações de criação de recursos em APIs RESTful."
   ]
  },
  {
   "cell_type": "code",
   "execution_count": 6,
   "metadata": {},
   "outputs": [],
   "source": [
    "post_response_json = post_response.json()"
   ]
  },
  {
   "cell_type": "code",
   "execution_count": 8,
   "metadata": {},
   "outputs": [
    {
     "name": "stdout",
     "output_type": "stream",
     "text": [
      "{'userID': 1, 'id': 101, 'title': 'Aprendendo Python', 'body': 'Manipulando informações da api com requests'}\n"
     ]
    }
   ],
   "source": [
    "print(post_response_json)"
   ]
  }
 ],
 "metadata": {
  "kernelspec": {
   "display_name": ".venv",
   "language": "python",
   "name": "python3"
  },
  "language_info": {
   "codemirror_mode": {
    "name": "ipython",
    "version": 3
   },
   "file_extension": ".py",
   "mimetype": "text/x-python",
   "name": "python",
   "nbconvert_exporter": "python",
   "pygments_lexer": "ipython3",
   "version": "3.12.2"
  }
 },
 "nbformat": 4,
 "nbformat_minor": 2
}
