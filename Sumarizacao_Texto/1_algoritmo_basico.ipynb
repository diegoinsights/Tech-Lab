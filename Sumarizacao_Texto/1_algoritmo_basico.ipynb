{
 "cells": [
  {
   "cell_type": "code",
   "execution_count": 1,
   "metadata": {},
   "outputs": [],
   "source": [
    "import re"
   ]
  },
  {
   "cell_type": "code",
   "execution_count": 3,
   "metadata": {},
   "outputs": [],
   "source": [
    "import nltk"
   ]
  },
  {
   "cell_type": "code",
   "execution_count": 4,
   "metadata": {},
   "outputs": [],
   "source": [
    "import string"
   ]
  },
  {
   "cell_type": "code",
   "execution_count": 5,
   "metadata": {},
   "outputs": [],
   "source": [
    "texto_original = \"\"\"A inteligência artificial é a inteligência similar à humana.\n",
    "Definem como o estudo de agente artificial com inteligência.\n",
    "Ciência e engenharia de produzir máquinas com inteligência.\n",
    "Resolver problemas e possuir inteligência.\n",
    "Relacionada ao comportamento inteligente.\n",
    "Construção de máquinas para raciocinar.\n",
    "Aprender com os erros e acertos.\n",
    "Inteligência artificial é raciocinar nas situações do cotidiano.\n",
    "\"\"\""
   ]
  },
  {
   "cell_type": "code",
   "execution_count": 6,
   "metadata": {},
   "outputs": [
    {
     "data": {
      "text/plain": [
       "'A inteligência artificial é a inteligência similar à humana.\\nDefinem como o estudo de agente artificial com inteligência.\\nCiência e engenharia de produzir máquinas com inteligência.\\nResolver problemas e possuir inteligência.\\nRelacionada ao comportamento inteligente.\\nConstrução de máquinas para raciocinar.\\nAprender com os erros e acertos.\\nInteligência artificial é raciocinar nas situações do cotidiano.\\n'"
      ]
     },
     "execution_count": 6,
     "metadata": {},
     "output_type": "execute_result"
    }
   ],
   "source": [
    "texto_original"
   ]
  },
  {
   "cell_type": "code",
   "execution_count": 7,
   "metadata": {},
   "outputs": [],
   "source": [
    "texto_original = re.sub(r'\\s+', ' ', texto_original)"
   ]
  },
  {
   "cell_type": "markdown",
   "metadata": {},
   "source": [
    "* re: Este é o módulo Python para operações com expressões regulares.\n",
    "* .sub(): Esta é a função que realiza a substituição.\n",
    "* r'\\s+': Este é o padrão de expressão regular a ser substituído. No contexto das expressões regulares, \\s corresponde a qualquer caractere de espaço em branco (espaço, tabulação, quebra de linha, etc.), e o + indica que o padrão \\s deve aparecer uma ou mais vezes consecutivas.\n",
    "* ' ': Este é o padrão de substituição. Neste caso, é um único espaço em branco.\n",
    "* texto_original: Esta é a string original na qual a substituição será feita.\n",
    "Então, resumindo, o trecho re.sub(r'\\s+', ' ', texto_original) está substituindo qualquer sequência contínua de espaços em branco na string texto_original por um único espaço em branco. Isso é útil para normalizar a formatação do texto, removendo espaços extras e garantindo que haja apenas um espaço entre as palavras."
   ]
  },
  {
   "cell_type": "code",
   "execution_count": 8,
   "metadata": {},
   "outputs": [
    {
     "data": {
      "text/plain": [
       "'A inteligência artificial é a inteligência similar à humana. Definem como o estudo de agente artificial com inteligência. Ciência e engenharia de produzir máquinas com inteligência. Resolver problemas e possuir inteligência. Relacionada ao comportamento inteligente. Construção de máquinas para raciocinar. Aprender com os erros e acertos. Inteligência artificial é raciocinar nas situações do cotidiano. '"
      ]
     },
     "execution_count": 8,
     "metadata": {},
     "output_type": "execute_result"
    }
   ],
   "source": [
    "texto_original"
   ]
  },
  {
   "cell_type": "code",
   "execution_count": null,
   "metadata": {},
   "outputs": [],
   "source": []
  }
 ],
 "metadata": {
  "kernelspec": {
   "display_name": ".venv",
   "language": "python",
   "name": "python3"
  },
  "language_info": {
   "codemirror_mode": {
    "name": "ipython",
    "version": 3
   },
   "file_extension": ".py",
   "mimetype": "text/x-python",
   "name": "python",
   "nbconvert_exporter": "python",
   "pygments_lexer": "ipython3",
   "version": "3.12.3"
  }
 },
 "nbformat": 4,
 "nbformat_minor": 2
}
