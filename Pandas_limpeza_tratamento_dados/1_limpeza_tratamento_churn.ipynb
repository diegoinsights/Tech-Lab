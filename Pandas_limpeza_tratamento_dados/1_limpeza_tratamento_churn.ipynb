{
 "cells": [
  {
   "cell_type": "code",
   "execution_count": 1,
   "metadata": {},
   "outputs": [
    {
     "name": "stdout",
     "output_type": "stream",
     "text": [
      "Requirement already satisfied: pandas in c:\\users\\dbadi\\appdata\\local\\programs\\python\\python312\\lib\\site-packages (2.2.1)\n",
      "Requirement already satisfied: numpy<2,>=1.26.0 in c:\\users\\dbadi\\appdata\\local\\programs\\python\\python312\\lib\\site-packages (from pandas) (1.26.4)\n",
      "Requirement already satisfied: python-dateutil>=2.8.2 in c:\\users\\dbadi\\appdata\\roaming\\python\\python312\\site-packages (from pandas) (2.9.0.post0)\n",
      "Requirement already satisfied: pytz>=2020.1 in c:\\users\\dbadi\\appdata\\local\\programs\\python\\python312\\lib\\site-packages (from pandas) (2024.1)\n",
      "Requirement already satisfied: tzdata>=2022.7 in c:\\users\\dbadi\\appdata\\local\\programs\\python\\python312\\lib\\site-packages (from pandas) (2024.1)\n",
      "Requirement already satisfied: six>=1.5 in c:\\users\\dbadi\\appdata\\roaming\\python\\python312\\site-packages (from python-dateutil>=2.8.2->pandas) (1.16.0)\n",
      "Note: you may need to restart the kernel to use updated packages.\n"
     ]
    }
   ],
   "source": [
    "%pip install pandas"
   ]
  },
  {
   "cell_type": "markdown",
   "metadata": {},
   "source": [
    "### conhecendo os dados"
   ]
  },
  {
   "cell_type": "code",
   "execution_count": 2,
   "metadata": {},
   "outputs": [],
   "source": [
    "import pandas as pd"
   ]
  },
  {
   "cell_type": "code",
   "execution_count": 4,
   "metadata": {},
   "outputs": [],
   "source": [
    "dados_churn = pd.read_json('dataset-telecon.json')"
   ]
  },
  {
   "cell_type": "code",
   "execution_count": 6,
   "metadata": {},
   "outputs": [
    {
     "data": {
      "text/html": [
       "<div>\n",
       "<style scoped>\n",
       "    .dataframe tbody tr th:only-of-type {\n",
       "        vertical-align: middle;\n",
       "    }\n",
       "\n",
       "    .dataframe tbody tr th {\n",
       "        vertical-align: top;\n",
       "    }\n",
       "\n",
       "    .dataframe thead th {\n",
       "        text-align: right;\n",
       "    }\n",
       "</style>\n",
       "<table border=\"1\" class=\"dataframe\">\n",
       "  <thead>\n",
       "    <tr style=\"text-align: right;\">\n",
       "      <th></th>\n",
       "      <th>id_cliente</th>\n",
       "      <th>Churn</th>\n",
       "      <th>cliente</th>\n",
       "      <th>telefone</th>\n",
       "      <th>internet</th>\n",
       "      <th>conta</th>\n",
       "    </tr>\n",
       "  </thead>\n",
       "  <tbody>\n",
       "    <tr>\n",
       "      <th>0</th>\n",
       "      <td>0002-ORFBO</td>\n",
       "      <td>nao</td>\n",
       "      <td>{'genero': 'feminino', 'idoso': 0, 'parceiro':...</td>\n",
       "      <td>{'servico_telefone': 'sim', 'varias_linhas': '...</td>\n",
       "      <td>{'servico_internet': 'DSL', 'seguranca_online'...</td>\n",
       "      <td>{'contrato': None, 'faturamente_eletronico': N...</td>\n",
       "    </tr>\n",
       "    <tr>\n",
       "      <th>1</th>\n",
       "      <td>0003-MKNFE</td>\n",
       "      <td>nao</td>\n",
       "      <td>{'genero': 'masculino', 'idoso': 0, 'parceiro'...</td>\n",
       "      <td>{'servico_telefone': 'sim', 'varias_linhas': '...</td>\n",
       "      <td>{'servico_internet': 'DSL', 'seguranca_online'...</td>\n",
       "      <td>{'contrato': 'mes a mes', 'faturamente_eletron...</td>\n",
       "    </tr>\n",
       "    <tr>\n",
       "      <th>2</th>\n",
       "      <td>0004-TLHLJ</td>\n",
       "      <td>sim</td>\n",
       "      <td>{'genero': 'masculino', 'idoso': 0, 'parceiro'...</td>\n",
       "      <td>{'servico_telefone': 'sim', 'varias_linhas': '...</td>\n",
       "      <td>{'servico_internet': 'fibra otica', 'seguranca...</td>\n",
       "      <td>{'contrato': 'mes a mes', 'faturamente_eletron...</td>\n",
       "    </tr>\n",
       "    <tr>\n",
       "      <th>3</th>\n",
       "      <td>0011-IGKFF</td>\n",
       "      <td>sim</td>\n",
       "      <td>{'genero': 'masculino', 'idoso': 1, 'parceiro'...</td>\n",
       "      <td>{'servico_telefone': 'sim', 'varias_linhas': '...</td>\n",
       "      <td>{'servico_internet': 'fibra otica', 'seguranca...</td>\n",
       "      <td>{'contrato': 'mes a mes', 'faturamente_eletron...</td>\n",
       "    </tr>\n",
       "    <tr>\n",
       "      <th>4</th>\n",
       "      <td>0013-EXCHZ</td>\n",
       "      <td>sim</td>\n",
       "      <td>{'genero': 'feminino', 'idoso': 1, 'parceiro':...</td>\n",
       "      <td>{'servico_telefone': 'sim', 'varias_linhas': '...</td>\n",
       "      <td>{'servico_internet': 'fibra otica', 'seguranca...</td>\n",
       "      <td>{'contrato': 'mes a mes', 'faturamente_eletron...</td>\n",
       "    </tr>\n",
       "  </tbody>\n",
       "</table>\n",
       "</div>"
      ],
      "text/plain": [
       "   id_cliente Churn                                            cliente  \\\n",
       "0  0002-ORFBO   nao  {'genero': 'feminino', 'idoso': 0, 'parceiro':...   \n",
       "1  0003-MKNFE   nao  {'genero': 'masculino', 'idoso': 0, 'parceiro'...   \n",
       "2  0004-TLHLJ   sim  {'genero': 'masculino', 'idoso': 0, 'parceiro'...   \n",
       "3  0011-IGKFF   sim  {'genero': 'masculino', 'idoso': 1, 'parceiro'...   \n",
       "4  0013-EXCHZ   sim  {'genero': 'feminino', 'idoso': 1, 'parceiro':...   \n",
       "\n",
       "                                            telefone  \\\n",
       "0  {'servico_telefone': 'sim', 'varias_linhas': '...   \n",
       "1  {'servico_telefone': 'sim', 'varias_linhas': '...   \n",
       "2  {'servico_telefone': 'sim', 'varias_linhas': '...   \n",
       "3  {'servico_telefone': 'sim', 'varias_linhas': '...   \n",
       "4  {'servico_telefone': 'sim', 'varias_linhas': '...   \n",
       "\n",
       "                                            internet  \\\n",
       "0  {'servico_internet': 'DSL', 'seguranca_online'...   \n",
       "1  {'servico_internet': 'DSL', 'seguranca_online'...   \n",
       "2  {'servico_internet': 'fibra otica', 'seguranca...   \n",
       "3  {'servico_internet': 'fibra otica', 'seguranca...   \n",
       "4  {'servico_internet': 'fibra otica', 'seguranca...   \n",
       "\n",
       "                                               conta  \n",
       "0  {'contrato': None, 'faturamente_eletronico': N...  \n",
       "1  {'contrato': 'mes a mes', 'faturamente_eletron...  \n",
       "2  {'contrato': 'mes a mes', 'faturamente_eletron...  \n",
       "3  {'contrato': 'mes a mes', 'faturamente_eletron...  \n",
       "4  {'contrato': 'mes a mes', 'faturamente_eletron...  "
      ]
     },
     "execution_count": 6,
     "metadata": {},
     "output_type": "execute_result"
    }
   ],
   "source": [
    "dados_churn.head()"
   ]
  },
  {
   "cell_type": "code",
   "execution_count": 7,
   "metadata": {},
   "outputs": [
    {
     "data": {
      "text/plain": [
       "{'contrato': None,\n",
       " 'faturamente_eletronico': None,\n",
       " 'metodo_pagamento': None,\n",
       " 'cobranca': {'mensal': None, 'Total': None}}"
      ]
     },
     "execution_count": 7,
     "metadata": {},
     "output_type": "execute_result"
    }
   ],
   "source": [
    "dados_churn['conta'][0]"
   ]
  },
  {
   "cell_type": "code",
   "execution_count": 8,
   "metadata": {},
   "outputs": [
    {
     "data": {
      "text/html": [
       "<div>\n",
       "<style scoped>\n",
       "    .dataframe tbody tr th:only-of-type {\n",
       "        vertical-align: middle;\n",
       "    }\n",
       "\n",
       "    .dataframe tbody tr th {\n",
       "        vertical-align: top;\n",
       "    }\n",
       "\n",
       "    .dataframe thead th {\n",
       "        text-align: right;\n",
       "    }\n",
       "</style>\n",
       "<table border=\"1\" class=\"dataframe\">\n",
       "  <thead>\n",
       "    <tr style=\"text-align: right;\">\n",
       "      <th></th>\n",
       "      <th>contrato</th>\n",
       "      <th>faturamente_eletronico</th>\n",
       "      <th>metodo_pagamento</th>\n",
       "      <th>cobranca.mensal</th>\n",
       "      <th>cobranca.Total</th>\n",
       "    </tr>\n",
       "  </thead>\n",
       "  <tbody>\n",
       "    <tr>\n",
       "      <th>0</th>\n",
       "      <td>None</td>\n",
       "      <td>None</td>\n",
       "      <td>None</td>\n",
       "      <td>NaN</td>\n",
       "      <td>None</td>\n",
       "    </tr>\n",
       "    <tr>\n",
       "      <th>1</th>\n",
       "      <td>mes a mes</td>\n",
       "      <td>nao</td>\n",
       "      <td>cheque pelo correio</td>\n",
       "      <td>59.9</td>\n",
       "      <td>542.4</td>\n",
       "    </tr>\n",
       "    <tr>\n",
       "      <th>2</th>\n",
       "      <td>mes a mes</td>\n",
       "      <td>sim</td>\n",
       "      <td>cheque eletronico</td>\n",
       "      <td>73.9</td>\n",
       "      <td>280.85</td>\n",
       "    </tr>\n",
       "    <tr>\n",
       "      <th>3</th>\n",
       "      <td>mes a mes</td>\n",
       "      <td>sim</td>\n",
       "      <td>cheque eletronico</td>\n",
       "      <td>98.0</td>\n",
       "      <td>1237.85</td>\n",
       "    </tr>\n",
       "    <tr>\n",
       "      <th>4</th>\n",
       "      <td>mes a mes</td>\n",
       "      <td>sim</td>\n",
       "      <td>cheque pelo correio</td>\n",
       "      <td>83.9</td>\n",
       "      <td>267.4</td>\n",
       "    </tr>\n",
       "  </tbody>\n",
       "</table>\n",
       "</div>"
      ],
      "text/plain": [
       "    contrato faturamente_eletronico     metodo_pagamento  cobranca.mensal  \\\n",
       "0       None                   None                 None              NaN   \n",
       "1  mes a mes                    nao  cheque pelo correio             59.9   \n",
       "2  mes a mes                    sim    cheque eletronico             73.9   \n",
       "3  mes a mes                    sim    cheque eletronico             98.0   \n",
       "4  mes a mes                    sim  cheque pelo correio             83.9   \n",
       "\n",
       "  cobranca.Total  \n",
       "0           None  \n",
       "1          542.4  \n",
       "2         280.85  \n",
       "3        1237.85  \n",
       "4          267.4  "
      ]
     },
     "execution_count": 8,
     "metadata": {},
     "output_type": "execute_result"
    }
   ],
   "source": [
    "pd.json_normalize(dados_churn['conta']).head()"
   ]
  },
  {
   "cell_type": "code",
   "execution_count": 9,
   "metadata": {},
   "outputs": [
    {
     "data": {
      "text/html": [
       "<div>\n",
       "<style scoped>\n",
       "    .dataframe tbody tr th:only-of-type {\n",
       "        vertical-align: middle;\n",
       "    }\n",
       "\n",
       "    .dataframe tbody tr th {\n",
       "        vertical-align: top;\n",
       "    }\n",
       "\n",
       "    .dataframe thead th {\n",
       "        text-align: right;\n",
       "    }\n",
       "</style>\n",
       "<table border=\"1\" class=\"dataframe\">\n",
       "  <thead>\n",
       "    <tr style=\"text-align: right;\">\n",
       "      <th></th>\n",
       "      <th>servico_telefone</th>\n",
       "      <th>varias_linhas</th>\n",
       "    </tr>\n",
       "  </thead>\n",
       "  <tbody>\n",
       "    <tr>\n",
       "      <th>0</th>\n",
       "      <td>sim</td>\n",
       "      <td>nao</td>\n",
       "    </tr>\n",
       "    <tr>\n",
       "      <th>1</th>\n",
       "      <td>sim</td>\n",
       "      <td>sim</td>\n",
       "    </tr>\n",
       "    <tr>\n",
       "      <th>2</th>\n",
       "      <td>sim</td>\n",
       "      <td>nao</td>\n",
       "    </tr>\n",
       "    <tr>\n",
       "      <th>3</th>\n",
       "      <td>sim</td>\n",
       "      <td>nao</td>\n",
       "    </tr>\n",
       "    <tr>\n",
       "      <th>4</th>\n",
       "      <td>sim</td>\n",
       "      <td>nao</td>\n",
       "    </tr>\n",
       "  </tbody>\n",
       "</table>\n",
       "</div>"
      ],
      "text/plain": [
       "  servico_telefone varias_linhas\n",
       "0              sim           nao\n",
       "1              sim           sim\n",
       "2              sim           nao\n",
       "3              sim           nao\n",
       "4              sim           nao"
      ]
     },
     "execution_count": 9,
     "metadata": {},
     "output_type": "execute_result"
    }
   ],
   "source": [
    "pd.json_normalize(dados_churn['telefone']).head()"
   ]
  },
  {
   "cell_type": "code",
   "execution_count": null,
   "metadata": {},
   "outputs": [],
   "source": []
  }
 ],
 "metadata": {
  "kernelspec": {
   "display_name": "Python 3",
   "language": "python",
   "name": "python3"
  },
  "language_info": {
   "codemirror_mode": {
    "name": "ipython",
    "version": 3
   },
   "file_extension": ".py",
   "mimetype": "text/x-python",
   "name": "python",
   "nbconvert_exporter": "python",
   "pygments_lexer": "ipython3",
   "version": "3.12.2"
  }
 },
 "nbformat": 4,
 "nbformat_minor": 2
}
